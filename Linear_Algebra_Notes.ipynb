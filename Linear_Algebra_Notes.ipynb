{
  "nbformat": 4,
  "nbformat_minor": 0,
  "metadata": {
    "colab": {
      "provenance": [],
      "toc_visible": true
    },
    "kernelspec": {
      "name": "python3",
      "display_name": "Python 3"
    },
    "language_info": {
      "name": "python"
    }
  },
  "cells": [
    {
      "cell_type": "markdown",
      "source": [
        "# INTRO\n",
        "\n",
        "El siguiente Notebook documenta conceptos clave de algebra lineal y calculo. Se utiliza en mayor parte numpy.\n",
        "\n",
        "Creador:\n",
        "Jose Fabian Matamoros Corrales"
      ],
      "metadata": {
        "id": "7gP2CVX77ktJ"
      }
    },
    {
      "cell_type": "code",
      "execution_count": null,
      "metadata": {
        "id": "WzUrCONLnsVO"
      },
      "outputs": [],
      "source": [
        "import numpy as np\n",
        "from numpy import linalg as LA\n",
        "\n",
        "import matplotlib.pyplot as plt\n"
      ]
    },
    {
      "cell_type": "markdown",
      "source": [
        "# Vectores:\n",
        "\n",
        "Un vector es una colección de  n  números ordenados, comúnmente escritos como una columna:\n",
        "\n",
        "$$\n",
        "x = \\begin{bmatrix}x_1 \\\\ x_2 \\\\ ... \\\\ x_n\\end{bmatrix}\n",
        "$$"
      ],
      "metadata": {
        "id": "0Z3P89rcoPnx"
      }
    },
    {
      "cell_type": "code",
      "source": [
        "vector = np.array([1,2,3,5])\n",
        "vector"
      ],
      "metadata": {
        "colab": {
          "base_uri": "https://localhost:8080/"
        },
        "id": "o5gD1bbtn6o6",
        "outputId": "0f4001b9-e520-4544-c063-c6bec12e7569"
      },
      "execution_count": null,
      "outputs": [
        {
          "output_type": "execute_result",
          "data": {
            "text/plain": [
              "array([1, 2, 3, 5])"
            ]
          },
          "metadata": {},
          "execution_count": 3
        }
      ]
    },
    {
      "cell_type": "markdown",
      "source": [
        "> Grafica de un vector en 2D"
      ],
      "metadata": {
        "id": "JOOc1MP5ooeh"
      }
    },
    {
      "cell_type": "code",
      "source": [
        "# Create a single vector\n",
        "V = np.array([1,1])\n",
        "\n",
        "# Create the plot\n",
        "fig, ax = plt.subplots()\n",
        "\n",
        "# Add the vector V to the plot\n",
        "ax.quiver(0, 0, V[0], V[1], angles='xy', scale_units='xy', scale=1, color='r')\n",
        "\n",
        "# Set the x-limits and y-limits of the plot\n",
        "ax.set_xlim([-1, 2])\n",
        "ax.set_ylim([-1, 2])\n",
        "\n",
        "# Show the plot along with the grid\n",
        "plt.grid()\n",
        "plt.show()"
      ],
      "metadata": {
        "colab": {
          "base_uri": "https://localhost:8080/",
          "height": 435
        },
        "id": "L54Ppg9OontG",
        "outputId": "5465d6dc-2c32-4f36-802d-893aa973b5d0"
      },
      "execution_count": null,
      "outputs": [
        {
          "output_type": "display_data",
          "data": {
            "text/plain": [
              "<Figure size 640x480 with 1 Axes>"
            ],
            "image/png": "[encoded data removed]"
          },
          "metadata": {}
        }
      ]
    },
    {
      "cell_type": "markdown",
      "source": [
        "##  Norma de un Vector $(\\vec{V})$:\n",
        "\n",
        "Se refiere a la longitud del vector\n",
        "\n",
        "$\\|\\vec{V}\\| = \\sqrt{\\vec{V} \\cdot \\vec{V}} = \\sqrt{v_{1}^2 + v_{2}^2 + ... + v_{n}^2} $"
      ],
      "metadata": {
        "id": "9ZMRfqbypEvg"
      }
    },
    {
      "cell_type": "code",
      "source": [
        "v = np.array([1,1])\n",
        "LA.norm(v)\n"
      ],
      "metadata": {
        "colab": {
          "base_uri": "https://localhost:8080/"
        },
        "id": "hgjJBM9IqslV",
        "outputId": "d4b8b9da-150f-46f0-fd0c-361ec728a7fd"
      },
      "execution_count": null,
      "outputs": [
        {
          "output_type": "execute_result",
          "data": {
            "text/plain": [
              "1.4142135623730951"
            ]
          },
          "metadata": {},
          "execution_count": 8
        }
      ]
    },
    {
      "cell_type": "markdown",
      "source": [
        "> Direccion de un vector:\n",
        "\n",
        "El vector $x_{norma}$ representa la dirección del vector inicial.\n",
        "\n",
        "$x_{norma} = \\frac{x}{\\|x\\|} = \\begin{bmatrix} \\cos \\alpha \\\\ \\cos \\beta \\\\ \\cos \\gamma \\end{bmatrix}, $\n",
        "\n",
        "donde $\\alpha, \\beta, \\gamma$ son los ángulos direccionales definidos con respecto a los ejes base."
      ],
      "metadata": {
        "id": "V9tMUp2xwNg7"
      }
    },
    {
      "cell_type": "code",
      "source": [
        "x = np.array([1,2])\n",
        "\n",
        "x / LA.norm(x)"
      ],
      "metadata": {
        "colab": {
          "base_uri": "https://localhost:8080/"
        },
        "id": "lB9SAwHvwghp",
        "outputId": "1052d6e1-e109-4c9d-922b-531b416800c1"
      },
      "execution_count": null,
      "outputs": [
        {
          "output_type": "execute_result",
          "data": {
            "text/plain": [
              "array([0.4472136 , 0.89442719])"
            ]
          },
          "metadata": {},
          "execution_count": 10
        }
      ]
    },
    {
      "cell_type": "markdown",
      "source": [
        "##  Producto Escalar:\n",
        "\n",
        "**Definición:** El producto escalar de vectores\n",
        "\n",
        "$x = \\begin{bmatrix}x_1 \\\\ x_2 \\\\ ... \\\\ x_n\\end{bmatrix}$ e\n",
        "$y = \\begin{bmatrix}y_1 \\\\ y_2 \\\\ ... \\\\ y_n\\end{bmatrix}$\n",
        "\n",
        "es el número $x \\cdot y = x_1y_1 + x_2y_2 + · · · + x_ny_n$."
      ],
      "metadata": {
        "id": "RmJN79dGxR2o"
      }
    },
    {
      "cell_type": "code",
      "source": [
        "x = np.array([1,2,3])\n",
        "y = np.array([4,5,6])\n",
        "\n",
        "np.dot(x,y)"
      ],
      "metadata": {
        "colab": {
          "base_uri": "https://localhost:8080/"
        },
        "id": "KMvIEsUzxcLF",
        "outputId": "bc3f66f4-77f9-4d49-e837-7070f0f5cebb"
      },
      "execution_count": null,
      "outputs": [
        {
          "output_type": "execute_result",
          "data": {
            "text/plain": [
              "32"
            ]
          },
          "metadata": {},
          "execution_count": 11
        }
      ]
    },
    {
      "cell_type": "markdown",
      "source": [
        "**Vectores Perpendiculares / Ortogonales**\n",
        "\n",
        "Su producto punto = 0\n",
        "\n",
        "$x \\cdot y = 0$"
      ],
      "metadata": {
        "id": "IG_u8EzSxoON"
      }
    },
    {
      "cell_type": "markdown",
      "source": [
        "## Producto vectorial (producto cruz)\n",
        "\n",
        "**Definición:** El producto de dos vectores $a$ y $b$ es otro vector:\n",
        "\n",
        "$$ a \\times b = \\begin{bmatrix}a_1 \\\\ a_2 \\\\ a_3\\end{bmatrix} \\times\n",
        "              \\begin{bmatrix} b_1 \\\\ b_2 \\\\ b_3\\end{bmatrix} =\n",
        "              \\begin{bmatrix}a_2 b_3 - a_3 b_2 \\\\ a_3 b_1 - a_1 b_3 \\\\ a_1 b_2 - a_2 b_1\\end{bmatrix} $$\n",
        "\n",
        "\n",
        "El producto cruz $a \\times b$ es un vector que es perpendicular al plano en el que los vectores $a$ y $b$ se encuentran."
      ],
      "metadata": {
        "id": "aggU5PRjyaBd"
      }
    },
    {
      "cell_type": "code",
      "source": [
        "x = np.array([1,2,3])\n",
        "y = np.array([4,5,6])\n",
        "\n",
        "r = np.cross(x,y)\n",
        "print(r)\n",
        "\n",
        "print('Validando que el nuevo vector sea perpendicular a x & y')\n",
        "print(np.dot(x, r))\n",
        "print(np.dot(y, r))"
      ],
      "metadata": {
        "colab": {
          "base_uri": "https://localhost:8080/"
        },
        "id": "teFX5QiWypFG",
        "outputId": "bb0b5de9-3178-467d-ad3f-752f95038a8a"
      },
      "execution_count": null,
      "outputs": [
        {
          "output_type": "stream",
          "name": "stdout",
          "text": [
            "[-3  6 -3]\n",
            "Validando que el nuevo vector sea perpendicular a x & y\n",
            "0\n",
            "0\n"
          ]
        }
      ]
    },
    {
      "cell_type": "markdown",
      "source": [
        "# Matriz\n",
        "\n",
        "$A\\in\\mathbb{R}^{m\\times n}$ se define una matriz con $m$ filas\n",
        "y $n$ columnas, donde en este caso todas las entradas de $A$ son\n",
        "números reales.\n",
        "\n",
        "\\begin{equation}\n",
        "A=\\begin{bmatrix}a_{1,1} & a_{1,2} & \\ldots & a_{1,n}\\\\\n",
        "a_{2,1} & a_{2,2} & \\ldots & a_{2,n}\\\\\n",
        "\\vdots & \\vdots & \\ddots & \\vdots\\\\\n",
        "a_{m,1} & a_{m,2} &  & a_{m,n}\n",
        "\\end{bmatrix}\n",
        "\\end{equation}"
      ],
      "metadata": {
        "id": "nv1PjIqqzNo7"
      }
    },
    {
      "cell_type": "code",
      "source": [
        "A = np.array([  [1. , 2. , 3. ],\n",
        "                [4. , 5. , 6. ] ,\n",
        "                [7. , 8. , 9.]])\n",
        "\n",
        "A"
      ],
      "metadata": {
        "colab": {
          "base_uri": "https://localhost:8080/"
        },
        "id": "I7Q4EZBQ0A4E",
        "outputId": "43badb5f-e04c-4d3e-da1b-edbf9d9013b9"
      },
      "execution_count": null,
      "outputs": [
        {
          "output_type": "execute_result",
          "data": {
            "text/plain": [
              "array([[1., 2., 3.],\n",
              "       [4., 5., 6.],\n",
              "       [7., 8., 9.]])"
            ]
          },
          "metadata": {},
          "execution_count": 16
        }
      ]
    },
    {
      "cell_type": "markdown",
      "source": [
        "## Matriz Identidad y Diagonal"
      ],
      "metadata": {
        "id": "-DQVI2u40XMm"
      }
    },
    {
      "cell_type": "code",
      "source": [
        "# Matriz Identidad\n",
        "I = np.eye(3)\n",
        "I"
      ],
      "metadata": {
        "colab": {
          "base_uri": "https://localhost:8080/"
        },
        "id": "XHMXqZrO0KXc",
        "outputId": "71f0ec9a-3ea7-4a19-ae42-215acb4e2e65"
      },
      "execution_count": null,
      "outputs": [
        {
          "output_type": "execute_result",
          "data": {
            "text/plain": [
              "array([[1., 0., 0.],\n",
              "       [0., 1., 0.],\n",
              "       [0., 0., 1.]])"
            ]
          },
          "metadata": {},
          "execution_count": 17
        }
      ]
    },
    {
      "cell_type": "code",
      "source": [
        "D = np.diag(A)\n",
        "D"
      ],
      "metadata": {
        "colab": {
          "base_uri": "https://localhost:8080/"
        },
        "id": "41IGjmNg0hYf",
        "outputId": "591e98b3-5c7e-4c8f-914f-794cb05a885b"
      },
      "execution_count": null,
      "outputs": [
        {
          "output_type": "execute_result",
          "data": {
            "text/plain": [
              "array([1., 5., 9.])"
            ]
          },
          "metadata": {},
          "execution_count": 18
        }
      ]
    },
    {
      "cell_type": "markdown",
      "source": [
        "\\begin{equation}\n",
        "A\\,I=A\n",
        "\\end{equation}"
      ],
      "metadata": {
        "id": "9SEdhhn30wDm"
      }
    },
    {
      "cell_type": "code",
      "source": [
        "np.matmul(A, I)"
      ],
      "metadata": {
        "colab": {
          "base_uri": "https://localhost:8080/"
        },
        "id": "Cylkte3N0vTU",
        "outputId": "f4145e4f-4fb7-4253-faa5-e0cdd854681c"
      },
      "execution_count": null,
      "outputs": [
        {
          "output_type": "execute_result",
          "data": {
            "text/plain": [
              "array([[1., 2., 3.],\n",
              "       [4., 5., 6.],\n",
              "       [7., 8., 9.]])"
            ]
          },
          "metadata": {},
          "execution_count": 19
        }
      ]
    },
    {
      "cell_type": "markdown",
      "source": [
        "## Matriz Traspuesta\n",
        "\n",
        "Es una matriz $A\\in\\mathbb{R}^{m\\times n}$, su transpuesta se escribe como $A^{T}\\in\\mathbb{R}^{n\\times m}$\n",
        "\n",
        "Las siguientes son propiedades de la transpuesta:\n",
        "\n",
        "- $\\left(A^{T}\\right)^{T}=A$\n",
        "- $\\left(AB\\right)^{T}=B^{T}A^{T}$\n",
        "- $\\left(A+B\\right)^{T}=A^{T}+B^{T}$."
      ],
      "metadata": {
        "id": "DQGgNrIO097s"
      }
    },
    {
      "cell_type": "code",
      "source": [
        "print(A)\n",
        "T = np.transpose(A)\n",
        "T"
      ],
      "metadata": {
        "colab": {
          "base_uri": "https://localhost:8080/"
        },
        "id": "WIVpqEXk1fIb",
        "outputId": "8b014d96-670e-4518-ccf1-de1797b1a7d8"
      },
      "execution_count": null,
      "outputs": [
        {
          "output_type": "stream",
          "name": "stdout",
          "text": [
            "[[1. 2. 3.]\n",
            " [4. 5. 6.]\n",
            " [7. 8. 9.]]\n"
          ]
        },
        {
          "output_type": "execute_result",
          "data": {
            "text/plain": [
              "array([[1., 4., 7.],\n",
              "       [2., 5., 8.],\n",
              "       [3., 6., 9.]])"
            ]
          },
          "metadata": {},
          "execution_count": 21
        }
      ]
    },
    {
      "cell_type": "markdown",
      "source": [
        "## Traza de una Matriz\n",
        "\n",
        "La traza de una matriz cuadrada $A\\in\\mathbb{R}^{n\\times n}$ denotada como $\\textrm{tr}\\left(A\\right)$ es la suma de los elementos en la diagonal de una matriz"
      ],
      "metadata": {
        "id": "VCnPXuCO1z4Y"
      }
    },
    {
      "cell_type": "code",
      "source": [
        "np.trace(A)"
      ],
      "metadata": {
        "colab": {
          "base_uri": "https://localhost:8080/"
        },
        "id": "ihA3nOTa176r",
        "outputId": "83935c24-1adf-4240-ddd3-72bceb9e3e3a"
      },
      "execution_count": null,
      "outputs": [
        {
          "output_type": "execute_result",
          "data": {
            "text/plain": [
              "15.0"
            ]
          },
          "metadata": {},
          "execution_count": 22
        }
      ]
    },
    {
      "cell_type": "code",
      "source": [
        "w = np.array([ 1. , 2.,  3.  ])\n",
        "q = np.array([ 4. , 5. , 6.  ])\n",
        "\n",
        "np.matmul(w,q)"
      ],
      "metadata": {
        "colab": {
          "base_uri": "https://localhost:8080/"
        },
        "id": "3iBzOXgE2LxZ",
        "outputId": "7494e8b2-0ff3-460e-b566-2b0a7edbd76e"
      },
      "execution_count": null,
      "outputs": [
        {
          "output_type": "execute_result",
          "data": {
            "text/plain": [
              "32.0"
            ]
          },
          "metadata": {},
          "execution_count": 23
        }
      ]
    },
    {
      "cell_type": "markdown",
      "source": [
        "## Producto Interno y Externo\n",
        "\n",
        "\n",
        "> Producto interno:\n",
        "\n",
        "\n",
        "\n"
      ],
      "metadata": {
        "id": "MK6NmFJd2VUs"
      }
    },
    {
      "cell_type": "code",
      "source": [
        "# producto interno\n",
        "A = np.array([ 1. , 2.,  3.  ])\n",
        "B = np.array([ 4. , 5. , 6.  ])\n",
        "print( np.dot( A, B) )\n",
        "print( np.matmul(A,B) )"
      ],
      "metadata": {
        "colab": {
          "base_uri": "https://localhost:8080/"
        },
        "id": "5gsxCga_2lF3",
        "outputId": "30278e8b-24fc-4546-fef4-0df8c1b1ada6"
      },
      "execution_count": null,
      "outputs": [
        {
          "output_type": "stream",
          "name": "stdout",
          "text": [
            "32.0\n",
            "32.0\n"
          ]
        }
      ]
    },
    {
      "cell_type": "markdown",
      "source": [
        "> Producto Externo"
      ],
      "metadata": {
        "id": "MkrSKg7-2mn5"
      }
    },
    {
      "cell_type": "code",
      "source": [
        "np.outer( A, np.transpose(B) )"
      ],
      "metadata": {
        "colab": {
          "base_uri": "https://localhost:8080/"
        },
        "id": "gXfjsHhO2qmr",
        "outputId": "ad984687-746c-4a11-cfe0-26e63cbfb2ce"
      },
      "execution_count": null,
      "outputs": [
        {
          "output_type": "execute_result",
          "data": {
            "text/plain": [
              "array([[ 4.,  5.,  6.],\n",
              "       [ 8., 10., 12.],\n",
              "       [12., 15., 18.]])"
            ]
          },
          "metadata": {},
          "execution_count": 25
        }
      ]
    },
    {
      "cell_type": "markdown",
      "source": [
        "## Producto matriz-vector\n",
        "\n",
        "Sea una matriz $A\\in\\mathbb{R}^{m\\times n}$ y un vector (columna) $\\overrightarrow{x}\\in\\mathbb{R}^{n\\times1}$ su producto es el vector $\\overrightarrow{y}\\in\\mathbb{R}^{m\\times1}$ ."
      ],
      "metadata": {
        "id": "dwusk7fX3FTK"
      }
    },
    {
      "cell_type": "code",
      "source": [
        "A = np.array([ [1. , 2. , 3. ], [4. , 5. , 6. ] , [7. , 8. , 9.]])\n",
        "x = np.array( [ 2. , 3. , 4.] )\n",
        "np.matmul( A ,  x )"
      ],
      "metadata": {
        "colab": {
          "base_uri": "https://localhost:8080/"
        },
        "id": "rrRy97tW3LGn",
        "outputId": "7d4d6e89-5070-4bf8-d366-41f9b108ac06"
      },
      "execution_count": null,
      "outputs": [
        {
          "output_type": "execute_result",
          "data": {
            "text/plain": [
              "array([20., 47., 74.])"
            ]
          },
          "metadata": {},
          "execution_count": 26
        }
      ]
    },
    {
      "cell_type": "markdown",
      "source": [
        "## Producto Matriz-Matriz\n",
        "\n",
        "El producto matriz-matriz en general de dos matrices $A\\in\\mathbb{R}^{m\\times n}$ y $B\\in\\mathbb{R}^{n\\times p}$ dado por $C\\in\\mathbb{R}^{m\\times p}$"
      ],
      "metadata": {
        "id": "0hNHptaV3W8S"
      }
    },
    {
      "cell_type": "code",
      "source": [
        "A = np.array([ [1. , 2. , 3. ], [4. , 5. , 6. ]  ] )\n",
        "print(f\"A >>> shape: {np.shape(A)}\")\n",
        "B = np.array([ [7. , 8. ], [9. , 1. ] , [2. , 4.] ] )\n",
        "print(f\"B >>> shape: {np.shape(B)}\")\n",
        "C = np.matmul( A, B)\n",
        "print(C)\n",
        "print(f\"C >>> shape {np.shape(C)}\")"
      ],
      "metadata": {
        "colab": {
          "base_uri": "https://localhost:8080/"
        },
        "id": "Lpwiw3ad3mhA",
        "outputId": "c91925a7-c19c-4874-af0d-a1e1a7fea1bf"
      },
      "execution_count": null,
      "outputs": [
        {
          "output_type": "stream",
          "name": "stdout",
          "text": [
            "A >>> shape: (2, 3)\n",
            "B >>> shape: (3, 2)\n",
            "[[31. 22.]\n",
            " [85. 61.]]\n",
            "C >>> shape (2, 2)\n"
          ]
        }
      ]
    },
    {
      "cell_type": "markdown",
      "source": [
        "## Matriz Inversa\n",
        "\n",
        "La inversa de la matriz cuadrada $A\\in\\mathbb{R}^{n\\times n}$ se denota como $A^{-1}$ es la única matriz que cumple lo siguiente:\n",
        "\n",
        "\\begin{equation}\n",
        "A^{-1}A=I=A\\,A^{-1}\n",
        "\\end{equation}\n",
        "\n",
        "> Si la matriz  $A^{−1}$  no existe, se dice que la matriz es no invertible o singular."
      ],
      "metadata": {
        "id": "96Gjhegt4O0f"
      }
    },
    {
      "cell_type": "code",
      "source": [
        "A = np.array([ [1. , 2. ], [3. , 4. ] ])\n",
        "\n",
        "print(\"Matriz Inversa: \")\n",
        "print(LA.inv(A))"
      ],
      "metadata": {
        "colab": {
          "base_uri": "https://localhost:8080/"
        },
        "id": "LfVcYCe74vb6",
        "outputId": "403bdad8-bfd2-4cc9-ca7a-e8d3dab3a90d"
      },
      "execution_count": null,
      "outputs": [
        {
          "output_type": "stream",
          "name": "stdout",
          "text": [
            "Matriz Inversa: \n",
            "[[-2.   1. ]\n",
            " [ 1.5 -0.5]]\n"
          ]
        }
      ]
    },
    {
      "cell_type": "markdown",
      "source": [
        "> Pseudo inversa  de una matriz (de Moore-Penrose)\n",
        "Es una aproximacion de la inversa de una matriz en casos donde no existe o la matriz posee muchas soluciones"
      ],
      "metadata": {
        "id": "_gnE_uZ-4_9n"
      }
    },
    {
      "cell_type": "code",
      "source": [
        "LA.pinv(A)"
      ],
      "metadata": {
        "colab": {
          "base_uri": "https://localhost:8080/"
        },
        "id": "BMY11mhh5BRj",
        "outputId": "ea8215c7-81d6-4f7f-cb02-76707da41fc3"
      },
      "execution_count": null,
      "outputs": [
        {
          "output_type": "execute_result",
          "data": {
            "text/plain": [
              "array([[-2. ,  1. ],\n",
              "       [ 1.5, -0.5]])"
            ]
          },
          "metadata": {},
          "execution_count": 32
        }
      ]
    },
    {
      "cell_type": "markdown",
      "source": [
        "## Matrices ortogonales y ortonormales\n",
        "\n",
        "Matriz cuadrada $A\\in\\mathbb{R}^{n\\times n}$ es **ortogonal** si todas las columnas son ortogonales entre ellas.\n",
        "\n",
        "Si además, todos los vectores están normalizados, se dice que la matriz es **ortonormal**."
      ],
      "metadata": {
        "id": "vdOkP32W5qBc"
      }
    },
    {
      "cell_type": "markdown",
      "source": [
        "## Determinante de una matriz\n",
        "\n",
        "El determinante de una matriz cuadrada $A\\in\\mathbb{R}^{n\\times n}$ es una función denotada con $\\textrm{det}\\left(A\\right):\\mathbb{R}^{n\\times n}\\rightarrow\\mathbb{R}$.\n",
        "\n",
        "\n",
        "- $\\textrm{det}\\left(A\\right)=0$, implica que $A$ es una matriz singular (no invertible), por lo que entonces no tiene rango completo, y sus columnas son **linealmente dependientes**, lo que implica además la superficie $S$ no tiene volumen, al ser los vectores combinación lineal."
      ],
      "metadata": {
        "id": "IitGlX9q7D-m"
      }
    },
    {
      "cell_type": "code",
      "source": [
        "LA.det(np.array([[1,2,3],[4,5,6],[7,8,9]]))"
      ],
      "metadata": {
        "colab": {
          "base_uri": "https://localhost:8080/"
        },
        "id": "5lgi4ALm9z-u",
        "outputId": "775b2fa0-058e-471c-8474-59919faa7827"
      },
      "execution_count": null,
      "outputs": [
        {
          "output_type": "execute_result",
          "data": {
            "text/plain": [
              "0.0"
            ]
          },
          "metadata": {},
          "execution_count": 33
        }
      ]
    },
    {
      "cell_type": "code",
      "source": [
        "LA.det(np.array([[3,1,-4],[2,5,6],[1,4,8]]))"
      ],
      "metadata": {
        "colab": {
          "base_uri": "https://localhost:8080/"
        },
        "id": "yzbsiiMu92t7",
        "outputId": "f90e3be1-64fd-469a-fad1-e7df990a95bc"
      },
      "execution_count": null,
      "outputs": [
        {
          "output_type": "execute_result",
          "data": {
            "text/plain": [
              "26.000000000000004"
            ]
          },
          "metadata": {},
          "execution_count": 35
        }
      ]
    }
  ]
}